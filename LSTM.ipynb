{
 "cells": [
  {
   "cell_type": "markdown",
   "metadata": {},
   "source": [
    "PPR-20KD12"
   ]
  },
  {
   "cell_type": "code",
   "execution_count": 2,
   "metadata": {},
   "outputs": [],
   "source": [
    "import pandas as pd\n",
    "import numpy as np\n",
    "data = pd.read_csv('test.csv', encoding= 'unicode_escape')"
   ]
  },
  {
   "cell_type": "code",
   "execution_count": 3,
   "metadata": {},
   "outputs": [],
   "source": [
    "from numpy import unique\n",
    "from numpy import argmax\n",
    "from sklearn.metrics import mean_absolute_error\n",
    "from sklearn.metrics import accuracy_score\n",
    "from sklearn.model_selection import train_test_split\n",
    "from sklearn.preprocessing import LabelEncoder\n",
    "import tensorflow as tf\n",
    "from tensorflow import keras\n",
    "from tensorflow.keras.layers import Dense\n",
    "\n",
    "from pandas import DataFrame\n",
    "from pandas import Series\n",
    "from pandas import concat\n",
    "from pandas import read_csv\n",
    "from sklearn.metrics import mean_squared_error\n",
    "from sklearn.preprocessing import MinMaxScaler\n",
    "from keras.models import Sequential\n",
    "from keras.layers import LSTM\n",
    "from math import sqrt\n",
    "from matplotlib import pyplot\n",
    "import numpy"
   ]
  },
  {
   "cell_type": "markdown",
   "metadata": {},
   "source": [
    "Czyszczenie i edycja bazy"
   ]
  },
  {
   "cell_type": "code",
   "execution_count": 4,
   "metadata": {},
   "outputs": [],
   "source": [
    "duplicated_rows= data[data.duplicated()]\n",
    "#print(duplicated_rows)"
   ]
  },
  {
   "cell_type": "code",
   "execution_count": 5,
   "metadata": {},
   "outputs": [],
   "source": [
    "data = data.drop_duplicates() #\n"
   ]
  },
  {
   "cell_type": "code",
   "execution_count": 6,
   "metadata": {},
   "outputs": [],
   "source": [
    "import numpy as np\n",
    "cols_to_drop = ['SIGMA-LI']\n",
    "data = data.drop(cols_to_drop, axis=1)"
   ]
  },
  {
   "cell_type": "code",
   "execution_count": 7,
   "metadata": {},
   "outputs": [],
   "source": [
    "data2 = data.iloc[: , :-1]"
   ]
  },
  {
   "cell_type": "code",
   "execution_count": 8,
   "metadata": {},
   "outputs": [],
   "source": [
    "data2['Sys'] = pd.to_datetime(data2['Sys'])\n",
    "df2 = data2.groupby(data2['Sys'].dt.to_period('w')).sum()"
   ]
  },
  {
   "cell_type": "code",
   "execution_count": 9,
   "metadata": {},
   "outputs": [],
   "source": [
    "df2 = df2.reset_index()\n",
    "df2['Sys'] = df2['Sys'].apply(lambda x: x.strftime('%Y-%m-%w'))\n",
    "df2.set_index('Sys', inplace=True)"
   ]
  },
  {
   "cell_type": "code",
   "execution_count": 10,
   "metadata": {},
   "outputs": [],
   "source": [
    "df2.to_csv('kd12.csv')"
   ]
  },
  {
   "cell_type": "markdown",
   "metadata": {},
   "source": [
    "PPR-20KD12: Wykres wielkości/ilości cechy1 i cecy 2"
   ]
  },
  {
   "cell_type": "markdown",
   "metadata": {},
   "source": [
    "PPR-20KD12: Cecha"
   ]
  },
  {
   "cell_type": "code",
   "execution_count": 12,
   "metadata": {},
   "outputs": [],
   "source": [
    "series = read_csv('kd12.csv', header=0, parse_dates=[0], index_col=0, squeeze=True, date_parser=parser)\n",
    "#series = series.iloc[: , 1]"
   ]
  },
  {
   "cell_type": "code",
   "execution_count": 11,
   "metadata": {},
   "outputs": [],
   "source": [
    "from datetime import datetime\n",
    "def parser(x):\n",
    "\treturn datetime.strptime(x,'%Y-%m-%w')"
   ]
  },
  {
   "cell_type": "code",
   "execution_count": 13,
   "metadata": {},
   "outputs": [
    {
     "name": "stderr",
     "output_type": "stream",
     "text": [
      "c:\\Users\\windy\\anaconda3\\envs\\myenv\\lib\\site-packages\\ipykernel_launcher.py:5: FutureWarning: The pandas.datetime class is deprecated and will be removed from pandas in a future version. Import from datetime module instead.\n",
      "  \"\"\"\n"
     ]
    }
   ],
   "source": [
    "from pandas import DataFrame\n",
    "from pandas import Series\n",
    "from pandas import concat\n",
    "from pandas import read_csv\n",
    "from pandas import datetime\n",
    "from sklearn.metrics import mean_squared_error\n",
    "from sklearn.preprocessing import MinMaxScaler\n",
    "from keras.models import Sequential\n",
    "from keras.layers import Dense\n",
    "from keras.layers import LSTM\n",
    "from math import sqrt\n",
    "from matplotlib import pyplot\n",
    "import numpy"
   ]
  },
  {
   "cell_type": "code",
   "execution_count": 14,
   "metadata": {},
   "outputs": [],
   "source": [
    "# frame a sequence as a supervised learning problem\n",
    "def timeseries_to_supervised(df2, lag=1):\n",
    "\tdf = DataFrame(df2)\n",
    "\tcolumns = [df.shift(i) for i in range(1, lag+1)]\n",
    "\tcolumns.append(df)\n",
    "\tdf = concat(columns, axis=1)\n",
    "\tdf.fillna(0, inplace=True)\n",
    "\treturn df"
   ]
  },
  {
   "cell_type": "code",
   "execution_count": 15,
   "metadata": {},
   "outputs": [],
   "source": [
    "# create a differenced series\n",
    "def difference(dataset, interval=1):\n",
    "\tdiff = list()\n",
    "\tfor i in range(interval, len(dataset)):\n",
    "\t\tvalue = dataset[i] - dataset[i - interval]\n",
    "\t\tdiff.append(value)\n",
    "\treturn Series(diff)"
   ]
  },
  {
   "cell_type": "code",
   "execution_count": 16,
   "metadata": {},
   "outputs": [],
   "source": [
    "# invert differenced value\n",
    "def inverse_difference(history, yhat, interval=1):\n",
    "\treturn yhat + history[-interval]"
   ]
  },
  {
   "cell_type": "code",
   "execution_count": 17,
   "metadata": {},
   "outputs": [],
   "source": [
    "# scale train and test data to [-1, 1]\n",
    "def scale(train, test):\n",
    "\t# fit scaler\n",
    "\tscaler = MinMaxScaler(feature_range=(-1, 1))\n",
    "\tscaler = scaler.fit(train)\n",
    "\t# transform train\n",
    "\ttrain = train.reshape(train.shape[0], train.shape[1])\n",
    "\ttrain_scaled = scaler.transform(train)\n",
    "\t# transform test\n",
    "\ttest = test.reshape(test.shape[0], test.shape[1])\n",
    "\ttest_scaled = scaler.transform(test)\n",
    "\treturn scaler, train_scaled, test_scaled"
   ]
  },
  {
   "cell_type": "code",
   "execution_count": 18,
   "metadata": {},
   "outputs": [],
   "source": [
    "# inverse scaling for a forecasted value\n",
    "def invert_scale(scaler, X, value):\n",
    "\tnew_row = [x for x in X] + [value]\n",
    "\tarray = numpy.array(new_row)\n",
    "\tarray = array.reshape(1, len(array))\n",
    "\tinverted = scaler.inverse_transform(array)\n",
    "\treturn inverted[0, -1]"
   ]
  },
  {
   "cell_type": "code",
   "execution_count": 19,
   "metadata": {},
   "outputs": [],
   "source": [
    "# fit an LSTM network to training data\n",
    "def fit_lstm(train, batch_size, nb_epoch, neurons):\n",
    "\tX, y = train[:, 0:-1], train[:, -1]\n",
    "\tX = X.reshape(X.shape[0], 1, X.shape[1])\n",
    "\tmodel = Sequential()\n",
    "\tmodel.add(LSTM(neurons, batch_input_shape=(batch_size, X.shape[1], X.shape[2]), stateful=True))\n",
    "\tmodel.add(Dense(1))\n",
    "\tmodel.compile(loss='mean_squared_error', optimizer='adam')\n",
    "\tfor i in range(nb_epoch):\n",
    "\t\tmodel.fit(X, y, epochs=1, batch_size=batch_size, verbose=0, shuffle=False)\n",
    "\t\tmodel.reset_states()\n",
    "\treturn model"
   ]
  },
  {
   "cell_type": "code",
   "execution_count": 20,
   "metadata": {},
   "outputs": [],
   "source": [
    "# make a one-step forecast\n",
    "def forecast_lstm(model, batch_size, X):\n",
    "\tX = X.reshape(1, 1, len(X))\n",
    "\tyhat = model.predict(X, batch_size=batch_size)\n",
    "\treturn yhat[0,0]"
   ]
  },
  {
   "cell_type": "code",
   "execution_count": 21,
   "metadata": {},
   "outputs": [],
   "source": [
    "# transform data to be stationary\n",
    "raw_values = series.values\n",
    "diff_values = difference(raw_values, 1)"
   ]
  },
  {
   "cell_type": "code",
   "execution_count": 22,
   "metadata": {},
   "outputs": [],
   "source": [
    "# transform data to be supervised learning\n",
    "supervised = timeseries_to_supervised(diff_values, 1)\n",
    "supervised_values = supervised.values"
   ]
  },
  {
   "cell_type": "code",
   "execution_count": 23,
   "metadata": {},
   "outputs": [],
   "source": [
    "# split data into train and test-sets\n",
    "train, test = supervised_values[0:-52], supervised_values[-52:]"
   ]
  },
  {
   "cell_type": "code",
   "execution_count": 24,
   "metadata": {},
   "outputs": [],
   "source": [
    "# transform the scale of the data\n",
    "scaler, train_scaled, test_scaled = scale(train, test)"
   ]
  },
  {
   "cell_type": "code",
   "execution_count": 38,
   "metadata": {},
   "outputs": [],
   "source": [
    "# fit the model\n",
    "#lstm_model = fit_lstm(train_scaled, 1, 812, 1)"
   ]
  },
  {
   "cell_type": "code",
   "execution_count": 25,
   "metadata": {},
   "outputs": [
    {
     "data": {
      "text/plain": [
       "array([[-1.11456767e-01],\n",
       "       [-4.20698524e-03],\n",
       "       [ 5.88109642e-02],\n",
       "       [ 2.70613879e-02],\n",
       "       [ 1.44298971e-02],\n",
       "       [-6.80753589e-03],\n",
       "       [-7.28568733e-02],\n",
       "       [-8.38742554e-02],\n",
       "       [ 3.11546773e-02],\n",
       "       [ 1.49710625e-02],\n",
       "       [-1.90418214e-02],\n",
       "       [-3.38456035e-02],\n",
       "       [-6.83885366e-02],\n",
       "       [ 3.68191302e-03],\n",
       "       [-1.93958610e-01],\n",
       "       [ 4.63578254e-02],\n",
       "       [-5.34149557e-02],\n",
       "       [-1.74895525e-02],\n",
       "       [ 1.08147860e-02],\n",
       "       [-1.06203020e-01],\n",
       "       [-1.82199240e-01],\n",
       "       [ 6.27339035e-02],\n",
       "       [ 6.66749328e-02],\n",
       "       [ 8.55953991e-03],\n",
       "       [-4.73924726e-02],\n",
       "       [-4.43581343e-02],\n",
       "       [ 1.30221099e-02],\n",
       "       [-1.68619722e-01],\n",
       "       [ 2.98619121e-02],\n",
       "       [-1.41194165e-02],\n",
       "       [ 1.38362944e-02],\n",
       "       [ 1.49533153e-03],\n",
       "       [-6.08600527e-02],\n",
       "       [-7.29846954e-02],\n",
       "       [ 3.05132419e-02],\n",
       "       [ 1.56400055e-02],\n",
       "       [-6.43574744e-02],\n",
       "       [ 8.36479664e-03],\n",
       "       [-5.66526055e-02],\n",
       "       [-8.01897049e-03],\n",
       "       [-4.75633889e-02],\n",
       "       [-7.08175153e-02],\n",
       "       [ 3.99683565e-02],\n",
       "       [-5.70941567e-02],\n",
       "       [ 1.48816258e-02],\n",
       "       [-5.41856885e-03],\n",
       "       [-6.92960918e-02],\n",
       "       [-3.38688493e-04],\n",
       "       [-3.76908481e-02],\n",
       "       [-8.01908672e-02],\n",
       "       [ 2.74121910e-02],\n",
       "       [-5.43896109e-02],\n",
       "       [-1.27520531e-01],\n",
       "       [ 4.43338603e-02],\n",
       "       [-3.40153426e-01],\n",
       "       [-3.86949778e-02],\n",
       "       [ 2.59173661e-02],\n",
       "       [ 8.59122127e-02],\n",
       "       [ 4.41298634e-02],\n",
       "       [-4.60500717e-02],\n",
       "       [-1.67785972e-01],\n",
       "       [-1.37280077e-02],\n",
       "       [-1.35681272e-01],\n",
       "       [ 1.08649895e-01],\n",
       "       [-8.43535304e-01],\n",
       "       [-2.86325514e-02],\n",
       "       [-1.34835392e-02],\n",
       "       [-1.31490231e-02],\n",
       "       [-1.48272216e-02],\n",
       "       [-2.96374410e-02],\n",
       "       [-9.07453895e-03],\n",
       "       [-5.39727509e-03],\n",
       "       [-6.07465208e-03],\n",
       "       [-2.97755152e-02],\n",
       "       [-1.89527124e-02],\n",
       "       [-1.07862040e-01],\n",
       "       [ 2.38144249e-02],\n",
       "       [-3.73692364e-02],\n",
       "       [-2.02156454e-02],\n",
       "       [-3.07354182e-02],\n",
       "       [-4.90518957e-02],\n",
       "       [ 1.95592493e-02],\n",
       "       [-3.93050909e-02],\n",
       "       [-2.19810009e-03],\n",
       "       [-8.83963704e-03],\n",
       "       [-8.73412192e-03],\n",
       "       [-4.40959930e-02],\n",
       "       [-1.85957998e-02],\n",
       "       [-1.01937866e+00],\n",
       "       [-9.83105153e-02],\n",
       "       [ 6.03017211e-03],\n",
       "       [-5.64661503e-01],\n",
       "       [ 4.45558280e-02],\n",
       "       [ 1.77263170e-02],\n",
       "       [-6.49298579e-02],\n",
       "       [ 5.63988090e-03],\n",
       "       [-6.92660809e-02],\n",
       "       [-3.46648693e-03],\n",
       "       [-1.57115638e-01],\n",
       "       [ 6.67670816e-02],\n",
       "       [-9.79453474e-02],\n",
       "       [ 4.17156368e-02],\n",
       "       [-1.67890042e-02],\n",
       "       [-1.50487185e-01],\n",
       "       [ 1.30268484e-02],\n",
       "       [ 2.16460675e-02],\n",
       "       [-3.03767622e-03],\n",
       "       [ 1.20330155e-02],\n",
       "       [-4.36426103e-02],\n",
       "       [-6.66584074e-03],\n",
       "       [-1.35305867e-01],\n",
       "       [ 4.68558073e-03],\n",
       "       [ 8.03436339e-03],\n",
       "       [ 6.26908243e-03],\n",
       "       [-1.25697404e-02],\n",
       "       [-1.08391449e-01],\n",
       "       [-7.52143115e-02],\n",
       "       [ 4.05611545e-02],\n",
       "       [ 8.34374130e-03],\n",
       "       [-5.57021797e-02],\n",
       "       [-2.25203633e-02],\n",
       "       [ 3.31133604e-03],\n",
       "       [-2.89313048e-02],\n",
       "       [-4.66439426e-02],\n",
       "       [ 1.50368214e-02],\n",
       "       [-2.80408859e-02],\n",
       "       [-2.09000707e-03],\n",
       "       [-7.05368221e-02],\n",
       "       [ 5.75427711e-03],\n",
       "       [-8.13274235e-02],\n",
       "       [-6.72900826e-02],\n",
       "       [-2.94046104e-03],\n",
       "       [ 7.26999342e-03],\n",
       "       [-1.82436556e-02],\n",
       "       [-2.24642679e-01],\n",
       "       [ 4.67979163e-02],\n",
       "       [ 1.65177137e-02],\n",
       "       [ 3.17936093e-02],\n",
       "       [-1.74596161e-02],\n",
       "       [-2.31555402e-02],\n",
       "       [ 2.86749005e-03],\n",
       "       [-5.52605093e-02],\n",
       "       [-3.16055119e-02],\n",
       "       [-6.31764531e-02],\n",
       "       [ 2.54095644e-02],\n",
       "       [-2.77538002e-02],\n",
       "       [-3.49041373e-02],\n",
       "       [-4.39616442e-02],\n",
       "       [ 1.31473988e-02],\n",
       "       [-4.99131829e-02],\n",
       "       [-1.47079676e-02],\n",
       "       [-3.90293449e-02],\n",
       "       [-3.53892148e-03],\n",
       "       [-2.50566304e-02],\n",
       "       [-3.07815075e-02],\n",
       "       [-5.24915904e-02],\n",
       "       [-7.57725388e-02],\n",
       "       [ 2.49638110e-02],\n",
       "       [-9.57231224e-03],\n",
       "       [-1.25303417e-02],\n",
       "       [-2.69336700e-02],\n",
       "       [ 1.32473260e-02],\n",
       "       [-1.22205853e-01],\n",
       "       [-6.86892271e-02],\n",
       "       [-9.36591327e-02],\n",
       "       [ 9.25920755e-02],\n",
       "       [-4.65857238e-02],\n",
       "       [-3.10623795e-02],\n",
       "       [ 1.42019093e-02],\n",
       "       [ 1.58157796e-02],\n",
       "       [-2.81800181e-02],\n",
       "       [ 2.80141830e-06],\n",
       "       [-3.09174359e-02],\n",
       "       [-7.54526258e-03],\n",
       "       [-7.29307830e-02],\n",
       "       [-2.17930824e-02],\n",
       "       [-1.13382041e-02],\n",
       "       [-2.18971819e-02],\n",
       "       [-1.66002214e-02],\n",
       "       [-5.38675338e-02],\n",
       "       [-7.11388439e-02],\n",
       "       [-5.16627729e-03],\n",
       "       [ 3.39264721e-02],\n",
       "       [-4.55780923e-02],\n",
       "       [-1.34384632e-02],\n",
       "       [-1.32488757e-02],\n",
       "       [ 3.44340503e-03],\n",
       "       [-6.51908666e-02],\n",
       "       [-2.11925656e-02],\n",
       "       [-1.11146629e-01],\n",
       "       [ 1.24006867e-02],\n",
       "       [ 3.14512402e-02],\n",
       "       [ 8.99150968e-04],\n",
       "       [-6.77888542e-02],\n",
       "       [-3.03713083e-02],\n",
       "       [-1.56796873e-02],\n",
       "       [-6.63730949e-02],\n",
       "       [ 8.56928527e-03],\n",
       "       [-1.88626349e-02],\n",
       "       [ 1.40478611e-02],\n",
       "       [-1.61720067e-02],\n",
       "       [-3.60207260e-02],\n",
       "       [-7.22784698e-02],\n",
       "       [ 1.00596249e-03],\n",
       "       [-3.59177738e-02],\n",
       "       [-4.91723418e-03],\n",
       "       [-6.27752095e-02],\n",
       "       [ 2.40491182e-02],\n",
       "       [-5.91156781e-02],\n",
       "       [-3.38730663e-02],\n",
       "       [ 2.05387175e-03],\n",
       "       [-1.36390626e-02],\n",
       "       [-2.30254531e-02],\n",
       "       [ 7.65243173e-03],\n",
       "       [-4.48863208e-02],\n",
       "       [ 1.75897777e-03],\n",
       "       [-4.21183854e-02],\n",
       "       [-5.34722954e-02],\n",
       "       [-2.19878107e-02],\n",
       "       [ 1.03796870e-02],\n",
       "       [-1.50147378e-02],\n",
       "       [-4.23514843e-02],\n",
       "       [-4.15737182e-02],\n",
       "       [-4.62388694e-02],\n",
       "       [-2.33808160e-03],\n",
       "       [-4.10524607e-02],\n",
       "       [ 2.13958174e-02],\n",
       "       [-2.03059614e-03],\n",
       "       [-4.25084531e-02],\n",
       "       [-3.60742658e-02],\n",
       "       [ 2.07804143e-03],\n",
       "       [-7.28768110e-02],\n",
       "       [-6.14326596e-02],\n",
       "       [-4.06752080e-02],\n",
       "       [-8.34147632e-03],\n",
       "       [ 1.31908506e-02],\n",
       "       [ 5.73441386e-04],\n",
       "       [-1.40326470e-02],\n",
       "       [-1.37529522e-02],\n",
       "       [-1.18195407e-01],\n",
       "       [ 3.56948525e-02],\n",
       "       [-1.14068836e-02],\n",
       "       [-2.62218565e-02],\n",
       "       [-4.35599685e-03],\n",
       "       [-4.20677513e-02],\n",
       "       [ 5.61597943e-03],\n",
       "       [-7.00406879e-02],\n",
       "       [ 5.43744862e-03],\n",
       "       [-6.03131205e-02],\n",
       "       [-2.07475275e-02],\n",
       "       [-2.86198109e-02],\n",
       "       [ 1.82058960e-02],\n",
       "       [-3.19373608e-02],\n",
       "       [-4.31534648e-03],\n",
       "       [-4.08490598e-02],\n",
       "       [-2.32106447e-02],\n",
       "       [-1.04815066e-02],\n",
       "       [-4.82753217e-02],\n",
       "       [-3.74245197e-02],\n",
       "       [ 9.85814631e-03],\n",
       "       [-4.43865210e-02],\n",
       "       [-2.75941193e-03],\n",
       "       [-3.26185226e-02],\n",
       "       [-1.86929107e-03],\n",
       "       [-2.60446668e-02],\n",
       "       [-3.91089320e-02],\n",
       "       [-5.55124879e-02],\n",
       "       [-1.10568106e-03],\n",
       "       [ 2.64619291e-03],\n",
       "       [-6.80457503e-02],\n",
       "       [ 9.34280455e-03],\n",
       "       [-2.58713067e-02],\n",
       "       [-2.95285434e-02],\n",
       "       [-1.60251111e-02],\n",
       "       [-4.13367152e-03],\n",
       "       [-4.03029174e-02],\n",
       "       [-1.58953965e-02],\n",
       "       [-1.49200410e-02],\n",
       "       [-1.35276616e-02],\n",
       "       [-2.62375176e-02],\n",
       "       [-1.08442008e-02],\n",
       "       [-3.40360850e-02],\n",
       "       [-3.74481380e-02],\n",
       "       [-2.93406844e-02],\n",
       "       [-2.95813382e-03],\n",
       "       [-4.95770574e-02],\n",
       "       [-7.58472085e-03],\n",
       "       [-5.70748746e-03],\n",
       "       [-1.63723230e-01],\n",
       "       [ 3.71157676e-02],\n",
       "       [-5.90626150e-02],\n",
       "       [-2.19917446e-01],\n",
       "       [ 7.89926797e-02],\n",
       "       [-3.50770354e-02],\n",
       "       [-9.58601683e-02],\n",
       "       [ 2.65346318e-02],\n",
       "       [ 3.89055163e-02],\n",
       "       [-7.53024668e-02],\n",
       "       [ 2.45323330e-02],\n",
       "       [ 2.49899924e-03],\n",
       "       [-2.33905613e-02],\n",
       "       [-1.51029974e-02],\n",
       "       [-1.63094550e-02],\n",
       "       [-3.19657028e-02],\n",
       "       [-1.65860653e-02],\n",
       "       [-1.69227868e-02],\n",
       "       [-3.05368453e-02],\n",
       "       [-7.52489716e-02],\n",
       "       [ 1.03611797e-02],\n",
       "       [-6.46494627e-02],\n",
       "       [-5.17628938e-02],\n",
       "       [-1.10708296e-01],\n",
       "       [ 6.00118786e-02],\n",
       "       [ 8.83550942e-03],\n",
       "       [-6.94546103e-03],\n",
       "       [-1.23018026e-02],\n",
       "       [-1.40587986e-02],\n",
       "       [-1.81203932e-02],\n",
       "       [-2.26702988e-02],\n",
       "       [-4.84230816e-02],\n",
       "       [-1.07444525e-02],\n",
       "       [-3.95846367e-02],\n",
       "       [-5.80908954e-02],\n",
       "       [-1.06043667e-02],\n",
       "       [-5.02258539e-04],\n",
       "       [-3.01396847e-02],\n",
       "       [-3.01937461e-02],\n",
       "       [-3.17711085e-02],\n",
       "       [ 5.99689782e-03],\n",
       "       [-1.03816986e-01],\n",
       "       [ 5.20262122e-03],\n",
       "       [-4.77327108e-02],\n",
       "       [-3.15372646e-03],\n",
       "       [ 1.81906968e-02],\n",
       "       [-1.13190569e-01],\n",
       "       [ 1.63322240e-02],\n",
       "       [-1.02917105e-01],\n",
       "       [ 2.77175754e-02],\n",
       "       [-9.68778133e-03],\n",
       "       [-1.48229897e-02],\n",
       "       [-1.56899840e-02],\n",
       "       [-3.62273306e-02],\n",
       "       [-1.95274055e-02],\n",
       "       [-5.04311472e-02],\n",
       "       [-1.30057096e-01],\n",
       "       [ 2.80176848e-02],\n",
       "       [ 3.42643112e-02],\n",
       "       [-5.48298061e-02],\n",
       "       [-4.11963463e-03],\n",
       "       [ 7.75045156e-03],\n",
       "       [-3.28098238e-02],\n",
       "       [-4.83296514e-02],\n",
       "       [-6.17609918e-02],\n",
       "       [ 2.80142277e-02],\n",
       "       [-2.71451175e-02],\n",
       "       [ 2.47703493e-03],\n",
       "       [-4.62464988e-03],\n",
       "       [-7.00549185e-02],\n",
       "       [-1.36779100e-02],\n",
       "       [-4.76784557e-02],\n",
       "       [ 1.55409724e-02],\n",
       "       [-1.07807368e-02],\n",
       "       [-4.80498374e-02]], dtype=float32)"
      ]
     },
     "execution_count": 25,
     "metadata": {},
     "output_type": "execute_result"
    }
   ],
   "source": [
    "# forecast the entire training dataset to build up state for forecasting\n",
    "#train_reshaped = train_scaled[:, 0].reshape(len(train_scaled), 1, 1)\n",
    "#lstm_model.predict(train_reshaped, batch_size=1)"
   ]
  },
  {
   "cell_type": "code",
   "execution_count": 25,
   "metadata": {},
   "outputs": [
    {
     "name": "stdout",
     "output_type": "stream",
     "text": [
      "1) Test RMSE: 74.975\n",
      "2) Test RMSE: 74.851\n",
      "3) Test RMSE: 73.920\n",
      "4) Test RMSE: 74.186\n",
      "5) Test RMSE: 73.810\n",
      "6) Test RMSE: 73.416\n",
      "7) Test RMSE: 73.902\n",
      "8) Test RMSE: 74.958\n",
      "9) Test RMSE: 73.784\n",
      "10) Test RMSE: 74.043\n",
      "11) Test RMSE: 73.661\n",
      "12) Test RMSE: 73.616\n",
      "13) Test RMSE: 73.344\n",
      "14) Test RMSE: 74.039\n",
      "15) Test RMSE: 74.196\n",
      "16) Test RMSE: 75.071\n",
      "17) Test RMSE: 73.995\n",
      "18) Test RMSE: 74.021\n",
      "19) Test RMSE: 73.523\n",
      "20) Test RMSE: 74.139\n",
      "21) Test RMSE: 74.156\n",
      "22) Test RMSE: 74.197\n",
      "23) Test RMSE: 74.725\n",
      "24) Test RMSE: 73.840\n",
      "25) Test RMSE: 73.710\n",
      "26) Test RMSE: 73.795\n",
      "27) Test RMSE: 74.028\n",
      "28) Test RMSE: 74.812\n",
      "29) Test RMSE: 73.653\n",
      "30) Test RMSE: 73.490\n",
      "31) Test RMSE: 73.880\n",
      "32) Test RMSE: 74.726\n",
      "33) Test RMSE: 73.771\n",
      "34) Test RMSE: 75.348\n",
      "35) Test RMSE: 73.689\n",
      "36) Test RMSE: 74.994\n",
      "37) Test RMSE: 73.766\n",
      "38) Test RMSE: 74.283\n",
      "39) Test RMSE: 74.886\n",
      "40) Test RMSE: 74.661\n"
     ]
    }
   ],
   "source": [
    "# repeat experiment\n",
    "repeats = 40\n",
    "error_scores = list()\n",
    "for r in range(repeats):\n",
    "\t# fit the model\n",
    "\tlstm_model = fit_lstm(train_scaled, 1, 812, 1)\n",
    "\t# forecast the entire training dataset to build up state for forecasting\n",
    "\ttrain_reshaped = train_scaled[:, 0].reshape(len(train_scaled), 1, 1)\n",
    "\tlstm_model.predict(train_reshaped, batch_size=1)\n",
    "\t# walk-forward validation on the test data\n",
    "\tpredictions = list()\n",
    "\tfor i in range(len(test_scaled)):\n",
    "\t\t# make one-step forecast\n",
    "\t\tX, y = test_scaled[i, 0:-1], test_scaled[i, -1]\n",
    "\t\tyhat = forecast_lstm(lstm_model, 1, X)\n",
    "\t\t# invert scaling\n",
    "\t\tyhat = invert_scale(scaler, X, yhat)\n",
    "\t\t# invert differencing\n",
    "\t\tyhat = inverse_difference(raw_values, yhat, len(test_scaled)+1-i)\n",
    "\t\t# store forecast\n",
    "\t\tpredictions.append(yhat)\n",
    "\t# report performance\n",
    "\trmse = sqrt(mean_squared_error(raw_values[-52:], predictions))\n",
    "\tprint('%d) Test RMSE: %.3f' % (r+1, rmse))\n",
    "\terror_scores.append(rmse)"
   ]
  },
  {
   "cell_type": "code",
   "execution_count": 26,
   "metadata": {},
   "outputs": [
    {
     "name": "stdout",
     "output_type": "stream",
     "text": [
      "            rmse\n",
      "count  40.000000\n",
      "mean   74.146490\n",
      "std     0.530418\n",
      "min    73.344315\n",
      "25%    73.769270\n",
      "50%    74.024576\n",
      "75%    74.676997\n",
      "max    75.348145\n"
     ]
    },
    {
     "data": {
      "image/png": "[encoded data removed]",
      "text/plain": [
       "<Figure size 432x288 with 1 Axes>"
      ]
     },
     "metadata": {
      "needs_background": "light"
     },
     "output_type": "display_data"
    }
   ],
   "source": [
    "#summarize results\n",
    "results = DataFrame()\n",
    "results['rmse'] = error_scores\n",
    "print(results.describe())\n",
    "results.boxplot()\n",
    "pyplot.show()"
   ]
  },
  {
   "cell_type": "code",
   "execution_count": 27,
   "metadata": {},
   "outputs": [
    {
     "name": "stdout",
     "output_type": "stream",
     "text": [
      "Test RMSE: 74.661\n"
     ]
    }
   ],
   "source": [
    "# report performance\n",
    "rmse = sqrt(mean_squared_error(raw_values[-52:], predictions))\n",
    "print('Test RMSE: %.3f' % rmse)"
   ]
  },
  {
   "cell_type": "code",
   "execution_count": 28,
   "metadata": {},
   "outputs": [
    {
     "name": "stdout",
     "output_type": "stream",
     "text": [
      "Week=1, Predicted=22.019396, Expected=71.000000\n",
      "Week=2, Predicted=36.797530, Expected=111.000000\n",
      "Week=3, Predicted=68.641888, Expected=6.000000\n",
      "Week=4, Predicted=72.116818, Expected=52.000000\n",
      "Week=5, Predicted=45.022748, Expected=46.000000\n",
      "Week=6, Predicted=50.433088, Expected=30.000000\n",
      "Week=7, Predicted=47.633940, Expected=50.000000\n",
      "Week=8, Predicted=44.527302, Expected=40.000000\n",
      "Week=9, Predicted=49.037533, Expected=55.000000\n",
      "Week=10, Predicted=50.379320, Expected=90.000000\n",
      "Week=11, Predicted=63.632879, Expected=106.000000\n",
      "Week=12, Predicted=86.820581, Expected=2.000000\n",
      "Week=13, Predicted=74.576979, Expected=10.000000\n",
      "Week=14, Predicted=33.992723, Expected=10.000000\n",
      "Week=15, Predicted=21.214852, Expected=100.000000\n",
      "Week=16, Predicted=33.016927, Expected=100.000000\n",
      "Week=17, Predicted=77.185376, Expected=2.000000\n",
      "Week=18, Predicted=70.171466, Expected=10.000000\n",
      "Week=19, Predicted=32.550962, Expected=20.000000\n",
      "Week=20, Predicted=23.065176, Expected=30.000000\n",
      "Week=21, Predicted=26.467285, Expected=100.000000\n",
      "Week=22, Predicted=44.589655, Expected=100.000000\n",
      "Week=23, Predicted=82.278871, Expected=53.000000\n",
      "Week=24, Predicted=86.893776, Expected=2.000000\n",
      "Week=25, Predicted=55.314985, Expected=100.000000\n",
      "Week=26, Predicted=44.018010, Expected=150.000000\n",
      "Week=27, Predicted=88.107371, Expected=10.000000\n",
      "Week=28, Predicted=93.408700, Expected=170.000000\n",
      "Week=29, Predicted=74.078523, Expected=30.000000\n",
      "Week=30, Predicted=99.491711, Expected=82.000000\n",
      "Week=31, Predicted=72.109870, Expected=52.000000\n",
      "Week=32, Predicted=73.660460, Expected=4.000000\n",
      "Week=33, Predicted=50.990458, Expected=15.000000\n",
      "Week=34, Predicted=27.090373, Expected=50.000000\n",
      "Week=35, Predicted=29.507233, Expected=115.000000\n",
      "Week=36, Predicted=56.446325, Expected=70.000000\n",
      "Week=37, Predicted=87.045542, Expected=58.000000\n",
      "Week=38, Predicted=78.114350, Expected=90.000000\n",
      "Week=39, Predicted=75.737895, Expected=8.000000\n",
      "Week=40, Predicted=66.418157, Expected=8.000000\n",
      "Week=41, Predicted=32.885108, Expected=113.000000\n",
      "Week=42, Predicted=38.190189, Expected=88.000000\n",
      "Week=43, Predicted=81.989184, Expected=122.000000\n",
      "Week=44, Predicted=97.504686, Expected=129.000000\n",
      "Week=45, Predicted=117.995666, Expected=120.000000\n",
      "Week=46, Predicted=127.066445, Expected=10.000000\n",
      "Week=47, Predicted=94.125218, Expected=150.000000\n",
      "Week=48, Predicted=71.210225, Expected=2.000000\n",
      "Week=49, Predicted=82.255098, Expected=189.000000\n",
      "Week=50, Predicted=67.009580, Expected=305.000000\n",
      "Week=51, Predicted=148.327141, Expected=378.000000\n",
      "Week=52, Predicted=252.233762, Expected=100.000000\n"
     ]
    }
   ],
   "source": [
    "# walk-forward validation on the test data\n",
    "predictions = list()\n",
    "for i in range(len(test_scaled)):\n",
    "\t# make one-step forecast\n",
    "\tX, y = test_scaled[i, 0:-1], test_scaled[i, -1]\n",
    "\tyhat = forecast_lstm(lstm_model, 1, X)\n",
    "\t# invert scaling\n",
    "\tyhat = invert_scale(scaler, X, yhat)\n",
    "\t# invert differencing\n",
    "\tyhat = inverse_difference(raw_values, yhat, len(test_scaled)+1-i)\n",
    "\t# store forecast\n",
    "\tpredictions.append(yhat)\n",
    "\texpected = raw_values[len(train) + i + 1]\n",
    "\tprint('Week=%d, Predicted=%f, Expected=%f' % (i+1, yhat, expected))"
   ]
  },
  {
   "cell_type": "code",
   "execution_count": 29,
   "metadata": {},
   "outputs": [
    {
     "data": {
      "image/png": "[encoded data removed]",
      "text/plain": [
       "<Figure size 432x288 with 1 Axes>"
      ]
     },
     "metadata": {
      "needs_background": "light"
     },
     "output_type": "display_data"
    }
   ],
   "source": [
    "# line plot of observed vs predicted, last ... m\n",
    "pyplot.plot(raw_values[-52:], color='blue', label='test')\n",
    "pyplot.plot(predictions, color='red', label='predykcja')\n",
    "pyplot.xlabel('ostatnie tygodnie')\n",
    "pyplot.ylabel('cecha1')\n",
    "pyplot.title('Produkt PPR-20KD12')\n",
    "pyplot.legend(loc='upper right')\n",
    "pyplot.show()\n",
    "\n",
    "b=raw_values[-52:]"
   ]
  },
  {
   "cell_type": "code",
   "execution_count": 71,
   "metadata": {},
   "outputs": [
    {
     "data": {
      "image/png": "[encoded data removed]",
      "text/plain": [
       "<Figure size 432x288 with 1 Axes>"
      ]
     },
     "metadata": {
      "needs_background": "light"
     },
     "output_type": "display_data"
    }
   ],
   "source": [
    "import matplotlib.pyplot as plt\n",
    "import pandas as pd\n",
    "numpy_arraydf2 = df2.to_numpy()\n",
    "numpy_arraydf3 = df3.to_numpy()\n",
    "plt.plot(numpy_arraydf3, color='blue', label='cecha2')\n",
    "plt.plot(numpy_arraydf2, color='red', label='cecha1')\n",
    "\n",
    "plt.xlabel('tydzień')\n",
    "plt.ylabel('cechy')\n",
    "plt.title('Produkt PPR-R20PN20')\n",
    "plt.legend(loc='upper right')\n",
    "plt.show()"
   ]
  },
  {
   "cell_type": "markdown",
   "metadata": {},
   "source": [
    "PPR-20KD12: cecha2"
   ]
  },
  {
   "cell_type": "code",
   "execution_count": 48,
   "metadata": {},
   "outputs": [],
   "source": [
    "by = data[data.columns[-1:]]"
   ]
  },
  {
   "cell_type": "code",
   "execution_count": 49,
   "metadata": {},
   "outputs": [],
   "source": [
    "tesdf = data2.iloc[: , :-1]"
   ]
  },
  {
   "cell_type": "code",
   "execution_count": 50,
   "metadata": {},
   "outputs": [],
   "source": [
    "tesdf['cecha2'] = by"
   ]
  },
  {
   "cell_type": "code",
   "execution_count": 51,
   "metadata": {},
   "outputs": [],
   "source": [
    "tesdf['Sys'] = pd.to_datetime(tesdf['Sys'])\n",
    "df3 = tesdf.groupby(tesdf['Sys'].dt.to_period('w')).sum()"
   ]
  },
  {
   "cell_type": "code",
   "execution_count": 52,
   "metadata": {},
   "outputs": [],
   "source": [
    "df3 = df3.reset_index()\n",
    "df3['Sys'] = df3['Sys'].apply(lambda x: x.strftime('%Y-%m-%w'))\n",
    "df3.set_index('Sys', inplace=True)"
   ]
  },
  {
   "cell_type": "code",
   "execution_count": 53,
   "metadata": {},
   "outputs": [],
   "source": [
    "df3.to_csv('R20PN20cech2.csv')"
   ]
  },
  {
   "cell_type": "code",
   "execution_count": 54,
   "metadata": {},
   "outputs": [],
   "source": [
    "series = read_csv('R20PN20cech2.csv', header=0, parse_dates=[0], index_col=0, squeeze=True, date_parser=parser)\n",
    "#series = series.iloc[: , 1]"
   ]
  },
  {
   "cell_type": "markdown",
   "metadata": {},
   "source": [
    "Porównanie dwóch cech w tygodniach"
   ]
  },
  {
   "cell_type": "code",
   "execution_count": null,
   "metadata": {},
   "outputs": [],
   "source": [
    "import matplotlib.pyplot as plt\n",
    "import pandas as pd\n",
    "\n",
    "plt.plot(by, color='red', label='cecha1')\n",
    "#plt.plot(cech263K, color='blue', label='cecha2')\n",
    "plt.xlabel('miesiące')\n",
    "plt.ylabel('cechy')\n",
    "plt.title('Produkt PPR-63K45')\n",
    "plt.legend(loc='upper right')\n",
    "plt.show()"
   ]
  },
  {
   "cell_type": "markdown",
   "metadata": {},
   "source": [
    "Produkt PPR-63K45"
   ]
  },
  {
   "cell_type": "code",
   "execution_count": 1,
   "metadata": {},
   "outputs": [],
   "source": [
    "import pandas as pd\n",
    "import numpy as np\n",
    "data = pd.read_csv('PPR-63K45.csv', encoding= 'unicode_escape')"
   ]
  },
  {
   "cell_type": "code",
   "execution_count": 2,
   "metadata": {},
   "outputs": [],
   "source": [
    "duplicated_rows= data[data.duplicated()]\n",
    "#print(duplicated_rows)"
   ]
  },
  {
   "cell_type": "code",
   "execution_count": 3,
   "metadata": {},
   "outputs": [],
   "source": [
    "data = data.drop_duplicates() #"
   ]
  },
  {
   "cell_type": "code",
   "execution_count": 4,
   "metadata": {},
   "outputs": [],
   "source": [
    "import numpy as np\n",
    "cols_to_drop = ['SIGMA-LI']\n",
    "data = data.drop(cols_to_drop, axis=1)"
   ]
  },
  {
   "cell_type": "code",
   "execution_count": 5,
   "metadata": {},
   "outputs": [],
   "source": [
    "data2 = data.iloc[: , :-1]"
   ]
  },
  {
   "cell_type": "code",
   "execution_count": 7,
   "metadata": {},
   "outputs": [],
   "source": [
    "data2['Sys'] = pd.to_datetime(data2['Sys'])\n",
    "df2 = data2.groupby(data2['Sys'].dt.to_period('w')).sum()"
   ]
  },
  {
   "cell_type": "code",
   "execution_count": 8,
   "metadata": {},
   "outputs": [],
   "source": [
    "df2 = df2.reset_index()\n",
    "df2['Sys'] = df2['Sys'].apply(lambda x: x.strftime('%Y-%m-%w'))\n",
    "df2.set_index('Sys', inplace=True)"
   ]
  },
  {
   "cell_type": "code",
   "execution_count": 12,
   "metadata": {},
   "outputs": [],
   "source": [
    "df2.to_csv('63K45.csv')"
   ]
  },
  {
   "cell_type": "code",
   "execution_count": 16,
   "metadata": {},
   "outputs": [],
   "source": [
    "series = read_csv('63K45.csv', header=0, parse_dates=[0], index_col=0, squeeze=True, date_parser=parser)\n",
    "#series = series.iloc[: , 1]"
   ]
  },
  {
   "cell_type": "code",
   "execution_count": null,
   "metadata": {},
   "outputs": [],
   "source": [
    "# line plot of observed vs predicted, last ... m\n",
    "pyplot.plot(raw_values[-52:], color='blue', label='test')\n",
    "pyplot.plot(predictions, color='red', label='predykcja')\n",
    "pyplot.xlabel('ostatnie tygodnie')\n",
    "pyplot.ylabel('cecha1')\n",
    "pyplot.title('Produkt PPR-63K45')\n",
    "pyplot.legend(loc='upper right')\n",
    "pyplot.show()\n",
    "\n",
    "b=raw_values[-52:]"
   ]
  },
  {
   "cell_type": "markdown",
   "metadata": {},
   "source": [
    "PPR-63K45: Wykres wielkości/ilości cechy1 i cecy 2"
   ]
  },
  {
   "cell_type": "markdown",
   "metadata": {},
   "source": [
    "PPR-63K45: Cecha 2"
   ]
  },
  {
   "cell_type": "markdown",
   "metadata": {},
   "source": [
    "PPR-63K45: cecha1"
   ]
  },
  {
   "cell_type": "markdown",
   "metadata": {},
   "source": [
    "PPR-25K"
   ]
  }
 ],
 "metadata": {
  "interpreter": {
   "hash": "794ba9b6ccbddab51072c72007bde8305bb9dcdba4a2194f2332c47aeee2b869"
  },
  "kernelspec": {
   "display_name": "Python 3.7.11 ('myenv')",
   "language": "python",
   "name": "python3"
  },
  "language_info": {
   "codemirror_mode": {
    "name": "ipython",
    "version": 3
   },
   "file_extension": ".py",
   "mimetype": "text/x-python",
   "name": "python",
   "nbconvert_exporter": "python",
   "pygments_lexer": "ipython3",
   "version": "3.7.11"
  },
  "orig_nbformat": 4
 },
 "nbformat": 4,
 "nbformat_minor": 2
}
